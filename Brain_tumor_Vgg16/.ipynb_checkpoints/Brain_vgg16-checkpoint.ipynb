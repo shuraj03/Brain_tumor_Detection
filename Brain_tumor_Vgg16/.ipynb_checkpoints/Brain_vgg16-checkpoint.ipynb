{
 "cells": [
  {
   "cell_type": "code",
   "execution_count": 2,
   "id": "76d9ad8c-fb18-4e76-9499-08e97c54e97b",
   "metadata": {},
   "outputs": [],
   "source": [
    "from tqdm import tqdm\n",
    "import os\n",
    "import time\n",
    "from random import randint\n",
    " \n",
    "import gc \n",
    "import numpy as np\n",
    "from scipy import stats\n",
    "import pandas as pd\n",
    "\n",
    "from sklearn.model_selection import train_test_split\n",
    "from sklearn.model_selection import StratifiedKFold\n",
    "from sklearn.preprocessing import StandardScaler\n",
    "from sklearn.svm import SVR\n",
    "from sklearn.model_selection import KFold\n",
    "\n",
    "import nibabel as nib\n",
    "import pydicom as pdm\n",
    "import nilearn as nl\n",
    "import nilearn.plotting as nlplt\n",
    "import h5py\n",
    "\n",
    "import matplotlib.pyplot as plt\n",
    "from matplotlib import cm\n",
    "import matplotlib.animation as anim\n",
    "import matplotlib.patches as mpatches\n",
    "import matplotlib.gridspec as gridspec\n",
    "\n",
    "import seaborn as sns\n",
    "import imageio\n",
    "from skimage.transform import resize\n",
    "from skimage.util import montage\n",
    "\n",
    "from IPython.display import Image as show_gif\n",
    "from IPython.display import clear_output\n",
    "from IPython.display import YouTubeVideo\n",
    "\n",
    "import torch\n",
    "import torch.nn as nn\n",
    "from torch.utils.data import Dataset, DataLoader\n",
    "import torch.nn.functional as F\n",
    "\n",
    "from torch.optim import Adam\n",
    "from torch.optim.lr_scheduler import ReduceLROnPlateau\n",
    "from torch.nn import MSELoss\n",
    "\n",
    "# !pip install albumentations==0.4.6\n",
    "import albumentations as A\n",
    "# from albumentations.pytorch import ToTensor, ToTensorV2\n",
    "\n",
    "\n",
    "from albumentations import Compose, HorizontalFlip\n",
    "# from albumentations.pytorch import ToTensor, ToTensorV2 \n",
    "\n",
    "import warnings\n",
    "warnings.simplefilter(\"ignore\")"
   ]
  },
  {
   "cell_type": "code",
   "execution_count": 3,
   "id": "47c05fbd-acbc-4c6e-b2e7-7b642fb6a437",
   "metadata": {},
   "outputs": [],
   "source": [
    "# code wall time starts(cw0)\n",
    "cw0 = time.time() \n",
    "\n",
    "# data loading time starts(dl0)\n",
    "dl0 = time.time() "
   ]
  },
  {
   "cell_type": "code",
   "execution_count": null,
   "id": "670555ad-d240-4f2b-937a-4129e226a4b4",
   "metadata": {},
   "outputs": [],
   "source": []
  }
 ],
 "metadata": {
  "kernelspec": {
   "display_name": "Python 3 (ipykernel)",
   "language": "python",
   "name": "python3"
  },
  "language_info": {
   "codemirror_mode": {
    "name": "ipython",
    "version": 3
   },
   "file_extension": ".py",
   "mimetype": "text/x-python",
   "name": "python",
   "nbconvert_exporter": "python",
   "pygments_lexer": "ipython3",
   "version": "3.11.4"
  }
 },
 "nbformat": 4,
 "nbformat_minor": 5
}
